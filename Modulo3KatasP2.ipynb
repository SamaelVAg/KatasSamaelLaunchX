{
 "cells": [
  {
   "cell_type": "code",
   "execution_count": 4,
   "metadata": {},
   "outputs": [
    {
     "name": "stdout",
     "output_type": "stream",
     "text": [
      "¿Quieres ver algo incleible? ¡Voltea hacia arriba!\n"
     ]
    }
   ],
   "source": [
    "# Agrega el código para crear una variable para un asteroide que \n",
    "# viaja a 19 km/s.\n",
    "\n",
    "# Escribe varias expresiones de prueba para determinar si puedes ver \n",
    "# el rayo de luz desde la tierra.\n",
    "\n",
    "# Agrega las instrucciones que se ejecutarán si las expresiones de \n",
    "# prueba son True o False.\n",
    "\n",
    "VAsteroid = 22\n",
    "if VAsteroid > 20:\n",
    "    print(\"¿Quieres ver algo incleible? ¡Voltea hacia arriba!\")\n",
    "elif VAsteroid == 20:\n",
    "    print(\"¿Quieres ver algo incleible? ¡Voltea hacia arriba!\")\n",
    "else:\n",
    "    print(\"Hoy no hay nada que ver\")"
   ]
  }
 ],
 "metadata": {
  "interpreter": {
   "hash": "53be35510612e15952fcae9f33d61208bf4e67345787c148fe17b57b053da225"
  },
  "kernelspec": {
   "display_name": "Python 3.10.2 64-bit (windows store)",
   "language": "python",
   "name": "python3"
  },
  "language_info": {
   "codemirror_mode": {
    "name": "ipython",
    "version": 3
   },
   "file_extension": ".py",
   "mimetype": "text/x-python",
   "name": "python",
   "nbconvert_exporter": "python",
   "pygments_lexer": "ipython3",
   "version": "3.10.2"
  },
  "orig_nbformat": 4
 },
 "nbformat": 4,
 "nbformat_minor": 2
}
