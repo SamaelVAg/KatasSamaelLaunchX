{
 "cells": [
  {
   "cell_type": "markdown",
   "metadata": {},
   "source": [
    "## Ejercicio 1"
   ]
  },
  {
   "cell_type": "code",
   "execution_count": 12,
   "metadata": {},
   "outputs": [],
   "source": [
    "# Función para leer 3 tanques de combustible y muestre el promedio\n",
    "\n",
    "def reporte_tanques(t1=0,t2=0,t3=0):\n",
    "    avg = (t1 + t2+ t3)/3\n",
    "    if avg > 0:\n",
    "        return f\"\"\"Reporte de combustible:\n",
    "El promedio de combustible en la nave es: {avg} %\n",
    "Primer tanque: {t1} %\n",
    "Segundo tanque: {t2} %\n",
    "Tercer tanque: {t3} %\"\"\"\n",
    "    else:\n",
    "        return f\"¡Tanques sin combustible, recargar!\""
   ]
  },
  {
   "cell_type": "code",
   "execution_count": 13,
   "metadata": {},
   "outputs": [
    {
     "name": "stdout",
     "output_type": "stream",
     "text": [
      "Reporte de combustible:\n",
      "El promedio de combustible en la nave es: 43.333333333333336 %\n",
      "Primer tanque: 10 %\n",
      "Segundo tanque: 20 %\n",
      "Tercer tanque: 100 %\n"
     ]
    }
   ],
   "source": [
    "# Llamamos a la función que genera el reporte print(funcion(tanque1, tanque2, tanque3))\n",
    "\n",
    "print(reporte_tanques(10,20,100))"
   ]
  },
  {
   "cell_type": "code",
   "execution_count": 14,
   "metadata": {},
   "outputs": [
    {
     "name": "stdout",
     "output_type": "stream",
     "text": [
      "5.0\n"
     ]
    }
   ],
   "source": [
    "# Funcion promedio\n",
    "\n",
    "def prom (valores):\n",
    "    total = sum(valores)\n",
    "    num_valores = len(valores)\n",
    "    return total / num_valores\n",
    "\n",
    "print(prom([2,3,5,10]))"
   ]
  },
  {
   "cell_type": "code",
   "execution_count": 15,
   "metadata": {},
   "outputs": [
    {
     "name": "stdout",
     "output_type": "stream",
     "text": [
      "Reporte de combustible:\n",
      "El promedio de combustible en la nave es: 43.333333333333336 %\n",
      "Primer tanque: 10 %\n",
      "Segundo tanque: 20 %\n",
      "Tercer tanque: 100 %\n"
     ]
    }
   ],
   "source": [
    "# Actualiza la funcion\n",
    "\n",
    "def reporte_tanques(t1=0,t2=0,t3=0):\n",
    "    avg = prom([t1,t2,t3])\n",
    "    if avg > 0:\n",
    "        return f\"\"\"Reporte de combustible:\n",
    "El promedio de combustible en la nave es: {avg} %\n",
    "Primer tanque: {t1} %\n",
    "Segundo tanque: {t2} %\n",
    "Tercer tanque: {t3} %\"\"\"\n",
    "    else:\n",
    "        return f\"¡Tanques sin combustible, recargar!\"\n",
    "\n",
    "# Llamamos a la función que genera el reporte print(funcion(tanque1, tanque2, tanque3))\n",
    "\n",
    "print(reporte_tanques(10,20,100))"
   ]
  },
  {
   "cell_type": "markdown",
   "metadata": {},
   "source": [
    "## Ejercicio 2"
   ]
  },
  {
   "cell_type": "code",
   "execution_count": 16,
   "metadata": {},
   "outputs": [
    {
     "name": "stdout",
     "output_type": "stream",
     "text": [
      "\n",
      "    Mars's mission report\n",
      "    Total travel time: 115 minutes\n",
      "    Average fuel: 137000 liters\n"
     ]
    }
   ],
   "source": [
    "# Función con un informe preciso de la misión. Considera hora de prelanzamiento, tiempo de vuelo, destino, tanque externo y tanque interno\n",
    "\n",
    "def detailed_report (pre_time, trip_time, destination, fuel_ext, fuel_int):\n",
    "    return f\"\"\"\n",
    "    {destination}'s mission report\n",
    "    Total travel time: {pre_time + trip_time} minutes\n",
    "    Average fuel: {fuel_ext + fuel_int} liters\"\"\"\n",
    "\n",
    "print(detailed_report(25, 90, 'Mars', 50000, 87000))"
   ]
  },
  {
   "cell_type": "code",
   "execution_count": 21,
   "metadata": {},
   "outputs": [
    {
     "name": "stdout",
     "output_type": "stream",
     "text": [
      "\n",
      "    Mars's mission report\n",
      "    Total travel time: 258 minutes\n",
      "    Total fuel: 213500 liters\n"
     ]
    }
   ],
   "source": [
    "# Escribe tu nueva función de reporte considerando lo anterior\n",
    "\n",
    "def detailed_report (destination, *time, **fuel_tanks):\n",
    "    return f\"\"\"\n",
    "    {destination}'s mission report\n",
    "    Total travel time: {sum(time)} minutes\n",
    "    Total fuel: {sum(fuel_tanks.values())} liters\"\"\"\n",
    "\n",
    "print(detailed_report('Mars', 25, 90, 143, reactor_a = 50000, reactor_b = 87000, reactor_c=76500))"
   ]
  },
  {
   "cell_type": "code",
   "execution_count": 32,
   "metadata": {},
   "outputs": [
    {
     "name": "stdout",
     "output_type": "stream",
     "text": [
      "\n",
      "    Mars's mission report\n",
      "    Total travel time: 258 minutes\n",
      "    Total fuel: 213500 liters\n",
      "    REACTOR_A = 50000 liters\n",
      "    REACTOR_B = 87000 liters\n",
      "    REACTOR_C = 76500 liters\n",
      "\n"
     ]
    }
   ],
   "source": [
    "# Escribe tu nueva función\n",
    "\n",
    "def detailed_report (destination, *time, **fuel_tanks):\n",
    "    mission_report = f\"\"\"\n",
    "    {destination}'s mission report\n",
    "    Total travel time: {sum(time)} minutes\n",
    "    Total fuel: {sum(fuel_tanks.values())} liters\n",
    "\"\"\"\n",
    "    for tank_source, volume in fuel_tanks.items():\n",
    "        mission_report += f'    {tank_source.upper()} = {volume} liters\\n'\n",
    "    return mission_report \n",
    "\n",
    "\n",
    "print(detailed_report('Mars', 25, 90, 143, reactor_a = 50000, reactor_b = 87000, reactor_c=76500))"
   ]
  }
 ],
 "metadata": {
  "interpreter": {
   "hash": "53be35510612e15952fcae9f33d61208bf4e67345787c148fe17b57b053da225"
  },
  "kernelspec": {
   "display_name": "Python 3.10.2 64-bit (windows store)",
   "language": "python",
   "name": "python3"
  },
  "language_info": {
   "codemirror_mode": {
    "name": "ipython",
    "version": 3
   },
   "file_extension": ".py",
   "mimetype": "text/x-python",
   "name": "python",
   "nbconvert_exporter": "python",
   "pygments_lexer": "ipython3",
   "version": "3.10.2"
  },
  "orig_nbformat": 4
 },
 "nbformat": 4,
 "nbformat_minor": 2
}
