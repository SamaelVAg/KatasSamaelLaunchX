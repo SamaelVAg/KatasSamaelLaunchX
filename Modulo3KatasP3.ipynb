{
 "cells": [
  {
   "cell_type": "code",
   "execution_count": 8,
   "metadata": {},
   "outputs": [
    {
     "name": "stdout",
     "output_type": "stream",
     "text": [
      "Hoy no hay nada interesante\n"
     ]
    }
   ],
   "source": [
    "# Agrega el código para crear nuevas variables para la velocidad y \n",
    "# el tamaño del asteroide.\n",
    "\n",
    "# Para probar el código, prueba con varias velocidades y tamaños.\n",
    "\n",
    "# Escribe varias expresiones de prueba o combinaciones de expresiones \n",
    "# de prueba para determinar qué mensaje se debe enviar a Tierra.\n",
    "\n",
    "VAsteroid = 19\n",
    "SAsteroid = 10\n",
    "if VAsteroid > 25 and SAsteroid > 25:\n",
    "    print(\"¡Peligro!\")\n",
    "    print(\"¡Peligro!\")\n",
    "    print(\"Un asteroide se aproxima\")\n",
    "    print(\"Velocidad = \" + str(VAsteroid) + \" km/s, tamaño = \" + str(SAsteroid) + \" m.\")\n",
    "elif VAsteroid >= 20:\n",
    "    print(\"¿Quieres ver algo incleible? ¡Voltea hacia arriba!\")\n",
    "elif SAsteroid < 25:\n",
    "    print(\"Hoy no hay nada interesante\")\n",
    "else:\n",
    "    print(\"Hoy no hay nada interesante\")"
   ]
  }
 ],
 "metadata": {
  "interpreter": {
   "hash": "53be35510612e15952fcae9f33d61208bf4e67345787c148fe17b57b053da225"
  },
  "kernelspec": {
   "display_name": "Python 3.10.2 64-bit (windows store)",
   "language": "python",
   "name": "python3"
  },
  "language_info": {
   "codemirror_mode": {
    "name": "ipython",
    "version": 3
   },
   "file_extension": ".py",
   "mimetype": "text/x-python",
   "name": "python",
   "nbconvert_exporter": "python",
   "pygments_lexer": "ipython3",
   "version": "3.10.2"
  },
  "orig_nbformat": 4
 },
 "nbformat": 4,
 "nbformat_minor": 2
}
