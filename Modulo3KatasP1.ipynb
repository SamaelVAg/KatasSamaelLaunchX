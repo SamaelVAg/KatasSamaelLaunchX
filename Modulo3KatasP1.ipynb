{
 "cells": [
  {
   "cell_type": "code",
   "execution_count": 3,
   "metadata": {},
   "outputs": [
    {
     "name": "stdout",
     "output_type": "stream",
     "text": [
      "¡Alerta! Se aproxima un asteroide a una velocidad de 49 km/s.\n"
     ]
    }
   ],
   "source": [
    "# Añadir el código necesario para crear una variable que guarde la \n",
    "# velocidad del asteroide.\n",
    "\n",
    "# Escribe una expresión de prueba para calcular si necesita una advertencia.\n",
    "\n",
    "# Agregue las instrucciones que se ejecutarán si la expresión de prueba es \n",
    "# true o false.\n",
    "\n",
    "VAsteroid = 49\n",
    "if VAsteroid > 25:\n",
    "    print(\"¡Alerta! Se aproxima un asteroide a una velocidad de \"+str(VAsteroid)+\" km/s.\")\n",
    "else:\n",
    "    print(\"Tranquilo el asteroide no es una amenaza, V = \"+str(VAsteroid)+\" km/s.\")"
   ]
  }
 ],
 "metadata": {
  "interpreter": {
   "hash": "53be35510612e15952fcae9f33d61208bf4e67345787c148fe17b57b053da225"
  },
  "kernelspec": {
   "display_name": "Python 3.10.2 64-bit (windows store)",
   "language": "python",
   "name": "python3"
  },
  "language_info": {
   "codemirror_mode": {
    "name": "ipython",
    "version": 3
   },
   "file_extension": ".py",
   "mimetype": "text/x-python",
   "name": "python",
   "nbconvert_exporter": "python",
   "pygments_lexer": "ipython3",
   "version": "3.10.2"
  },
  "orig_nbformat": 4
 },
 "nbformat": 4,
 "nbformat_minor": 2
}
